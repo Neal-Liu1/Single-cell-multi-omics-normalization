{
 "cells": [
  {
   "cell_type": "markdown",
   "id": "b63d1267-2b02-4889-b5eb-78e822e71d5e",
   "metadata": {},
   "source": [
    "# scVI bm CITEseq\n",
    "\n",
    "\n",
    "\n",
    "\n",
    "\n"
   ]
  },
  {
   "cell_type": "markdown",
   "id": "d959f8ed-04fe-4da1-a558-93d1d960e8c1",
   "metadata": {},
   "source": [
    "## Single study normalization"
   ]
  },
  {
   "cell_type": "code",
   "execution_count": 1,
   "id": "f7d26a5d-c4b4-465d-ba95-da6204252c86",
   "metadata": {
    "editable": true,
    "slideshow": {
     "slide_type": ""
    },
    "tags": []
   },
   "outputs": [
    {
     "name": "stderr",
     "output_type": "stream",
     "text": [
      "/home/users/allstaff/liu.ne/.conda/envs/scMultiOmics_normalization/lib/python3.9/site-packages/tqdm/auto.py:21: TqdmWarning: IProgress not found. Please update jupyter and ipywidgets. See https://ipywidgets.readthedocs.io/en/stable/user_install.html\n",
      "  from .autonotebook import tqdm as notebook_tqdm\n"
     ]
    }
   ],
   "source": [
    "import tempfile\n",
    "import anndata as ad\n",
    "import matplotlib.pyplot as plt\n",
    "import mudata as md\n",
    "import muon\n",
    "import scanpy as sc\n",
    "import scvi\n",
    "import seaborn as sns\n",
    "import torch\n",
    "import numpy as np\n",
    "import time\n",
    "from scipy.stats import pearsonr\n",
    "import plotnine as p9"
   ]
  },
  {
   "cell_type": "code",
   "execution_count": 2,
   "id": "c24f7a2c-d473-4bbd-8427-627109eeca7e",
   "metadata": {},
   "outputs": [],
   "source": [
    "ADT_data = sc.read_h5ad(filename = '/vast/scratch/users/liu.ne/ADT.h5ad')\n",
    "RNA_data = sc.read_h5ad(filename = '/vast/scratch/users/liu.ne/RNA.h5ad')"
   ]
  },
  {
   "cell_type": "code",
   "execution_count": 3,
   "id": "f52c21ba-93d7-470d-b7c5-4191426c7fc2",
   "metadata": {},
   "outputs": [
    {
     "name": "stdout",
     "output_type": "stream",
     "text": [
      "AnnData object with n_obs × n_vars = 30672 × 25\n",
      "    obs: 'orig.ident', 'nCount_RNA', 'nFeature_RNA', 'nCount_ADT', 'nFeature_ADT', 'lane', 'donor', 'celltype.l1', 'celltype.l2', 'RNA.weight', 'log2_rna_libsize', 'log2_adt_libsize'\n",
      "    uns: 'X_name'\n"
     ]
    }
   ],
   "source": [
    "print(ADT_data)"
   ]
  },
  {
   "cell_type": "code",
   "execution_count": 4,
   "id": "738b6035-e757-41d6-8ae3-673aeb58552a",
   "metadata": {},
   "outputs": [
    {
     "name": "stdout",
     "output_type": "stream",
     "text": [
      "AnnData object with n_obs × n_vars = 30672 × 17009\n",
      "    obs: 'orig.ident', 'nCount_RNA', 'nFeature_RNA', 'nCount_ADT', 'nFeature_ADT', 'lane', 'donor', 'celltype.l1', 'celltype.l2', 'RNA.weight', 'log2_rna_libsize', 'log2_adt_libsize'\n",
      "    uns: 'X_name'\n",
      "    layers: 'counts'\n"
     ]
    }
   ],
   "source": [
    "RNA_data.layers[\"counts\"] = RNA_data.X.copy()\n",
    "print(RNA_data)"
   ]
  },
  {
   "cell_type": "markdown",
   "id": "237ac586-240b-44bf-ba2a-54b5a6e4a6dc",
   "metadata": {},
   "source": [
    "#### Now we create a mudata object with muon. This is the equivalent of MultiAssayExperiment or Seurat obj in R, where multiple omics can be stored in one object."
   ]
  },
  {
   "cell_type": "code",
   "execution_count": 5,
   "id": "c3a9c8c8-6839-4d65-af4c-ccb822efbc29",
   "metadata": {},
   "outputs": [
    {
     "name": "stderr",
     "output_type": "stream",
     "text": [
      "/home/users/allstaff/liu.ne/.conda/envs/scMultiOmics_normalization/lib/python3.9/site-packages/mudata/_core/mudata.py:491: UserWarning: Cannot join columns with the same name because var_names are intersecting.\n"
     ]
    }
   ],
   "source": [
    "mdata = muon.MuData({'rna': RNA_data, 'adt': ADT_data})"
   ]
  },
  {
   "cell_type": "code",
   "execution_count": 6,
   "id": "9e2e3c92-3578-4848-a508-4b5e802ba0bc",
   "metadata": {},
   "outputs": [
    {
     "name": "stdout",
     "output_type": "stream",
     "text": [
      "MuData object with n_obs × n_vars = 30672 × 17034\n",
      "  2 modalities\n",
      "    rna:\t30672 x 17009\n",
      "      obs:\t'orig.ident', 'nCount_RNA', 'nFeature_RNA', 'nCount_ADT', 'nFeature_ADT', 'lane', 'donor', 'celltype.l1', 'celltype.l2', 'RNA.weight', 'log2_rna_libsize', 'log2_adt_libsize'\n",
      "      uns:\t'X_name'\n",
      "      layers:\t'counts'\n",
      "    adt:\t30672 x 25\n",
      "      obs:\t'orig.ident', 'nCount_RNA', 'nFeature_RNA', 'nCount_ADT', 'nFeature_ADT', 'lane', 'donor', 'celltype.l1', 'celltype.l2', 'RNA.weight', 'log2_rna_libsize', 'log2_adt_libsize'\n",
      "      uns:\t'X_name'\n"
     ]
    }
   ],
   "source": [
    "print(mdata)"
   ]
  },
  {
   "cell_type": "code",
   "execution_count": 7,
   "id": "438173fa-967d-4a8d-ae83-3d7711cc6273",
   "metadata": {},
   "outputs": [
    {
     "name": "stderr",
     "output_type": "stream",
     "text": [
      "[rank: 0] Global seed set to 0\n"
     ]
    }
   ],
   "source": [
    "scvi.settings.seed = 0"
   ]
  },
  {
   "cell_type": "code",
   "execution_count": 8,
   "id": "043db622-5be8-4f33-a23e-047dc04f2de5",
   "metadata": {},
   "outputs": [
    {
     "name": "stderr",
     "output_type": "stream",
     "text": [
      "/home/users/allstaff/liu.ne/.conda/envs/scMultiOmics_normalization/lib/python3.9/site-packages/mudata/_core/mudata.py:491: UserWarning: Cannot join columns with the same name because var_names are intersecting.\n"
     ]
    }
   ],
   "source": [
    "## Use scanpy to filter highly variable genes\n",
    "\n",
    "sc.pp.highly_variable_genes(\n",
    "    adata = mdata.mod['rna'],\n",
    "    layer = 'counts', \n",
    "    n_top_genes = 4000,\n",
    "    flavor = 'seurat_v3',\n",
    "    batch_key= 'donor')\n",
    "\n",
    "# Save filtered transcriptome as extra dimension\n",
    "mdata.mod['filtered_transcriptome'] = mdata.mod['rna'][:, mdata.mod['rna'].var['highly_variable']].copy()\n",
    "mdata.update()"
   ]
  },
  {
   "cell_type": "code",
   "execution_count": 9,
   "id": "3c8d40a8-6348-4875-85a4-99ae19cf517c",
   "metadata": {},
   "outputs": [
    {
     "data": {
      "text/plain": [
       "FO538757.2       False\n",
       "AP006222.2       False\n",
       "RP4-669L17.10    False\n",
       "RP11-206L10.9    False\n",
       "LINC00115        False\n",
       "                 ...  \n",
       "AP000223.42      False\n",
       "DSCR9             True\n",
       "AP001626.2       False\n",
       "AP001046.5       False\n",
       "AC004556.1       False\n",
       "Name: highly_variable, Length: 17009, dtype: bool"
      ]
     },
     "execution_count": 9,
     "metadata": {},
     "output_type": "execute_result"
    }
   ],
   "source": [
    "mdata.mod['rna'].var['highly_variable']"
   ]
  },
  {
   "cell_type": "code",
   "execution_count": 10,
   "id": "f9676334-971e-429d-93c7-7c16996de1da",
   "metadata": {},
   "outputs": [
    {
     "name": "stderr",
     "output_type": "stream",
     "text": [
      "/home/users/allstaff/liu.ne/.conda/envs/scMultiOmics_normalization/lib/python3.9/site-packages/mudata/_core/mudata.py:491: UserWarning: Cannot join columns with the same name because var_names are intersecting.\n"
     ]
    }
   ],
   "source": [
    "mdata.mod['adt'].X = mdata.mod['adt'].X.toarray()\n",
    "# Convert to RNA csr matrix for faster training\n",
    "mdata.mod['rna'].X = mdata.mod['rna'].X.tocsr()\n",
    "mdata.update()"
   ]
  },
  {
   "cell_type": "code",
   "execution_count": 11,
   "id": "4e4da1ec-76a7-4cf2-993e-b6cabd9a1794",
   "metadata": {},
   "outputs": [
    {
     "name": "stderr",
     "output_type": "stream",
     "text": [
      "/home/users/allstaff/liu.ne/.conda/envs/scMultiOmics_normalization/lib/python3.9/site-packages/scvi/data/fields/_layer_field.py:115: UserWarning: Training will be faster when sparse matrix is formatted as CSR. It is safe to cast before model initialization.\n"
     ]
    }
   ],
   "source": [
    "scvi.model.TOTALVI.setup_mudata(mdata = mdata, \n",
    "                                rna_layer = 'counts', \n",
    "                                protein_layer= None, \n",
    "                                batch_key= 'donor' , \n",
    "                                modalities= {\"rna_layer\":'filtered_transcriptome',\n",
    "                                             'protein_layer':'adt',\n",
    "                                             'batch_key':'rna'})"
   ]
  },
  {
   "cell_type": "code",
   "execution_count": 12,
   "id": "9960cef6-ba7e-4ba5-a573-13ea2c67fb20",
   "metadata": {},
   "outputs": [
    {
     "name": "stdout",
     "output_type": "stream",
     "text": [
      "\u001b[34mINFO    \u001b[0m Computing empirical prior initialization for protein background.                                          \n"
     ]
    }
   ],
   "source": [
    "model = scvi.model.TOTALVI(mdata, latent_distribution= 'normal')"
   ]
  },
  {
   "cell_type": "code",
   "execution_count": 13,
   "id": "61ef6b6d-a157-457c-b04e-50cb30a8493a",
   "metadata": {},
   "outputs": [
    {
     "name": "stderr",
     "output_type": "stream",
     "text": [
      "GPU available: False, used: False\n",
      "TPU available: False, using: 0 TPU cores\n",
      "IPU available: False, using: 0 IPUs\n",
      "HPU available: False, using: 0 HPUs\n",
      "/home/users/allstaff/liu.ne/.conda/envs/scMultiOmics_normalization/lib/python3.9/site-packages/lightning/pytorch/core/optimizer.py:321: RuntimeWarning: The lr scheduler dict contains the key(s) ['monitor'], but the keys will be ignored. You need to call `lr_scheduler.step()` manually in manual optimization.\n",
      "SLURM auto-requeueing enabled. Setting signal handlers.\n"
     ]
    },
    {
     "name": "stdout",
     "output_type": "stream",
     "text": [
      "Epoch 261/261: 100%|██████████| 261/261 [30:49<00:00,  7.14s/it, v_num=1, train_loss_step=902, train_loss_epoch=882]"
     ]
    },
    {
     "name": "stderr",
     "output_type": "stream",
     "text": [
      "`Trainer.fit` stopped: `max_epochs=261` reached.\n"
     ]
    },
    {
     "name": "stdout",
     "output_type": "stream",
     "text": [
      "Epoch 261/261: 100%|██████████| 261/261 [30:49<00:00,  7.09s/it, v_num=1, train_loss_step=902, train_loss_epoch=882]\n"
     ]
    }
   ],
   "source": [
    "start_time = time.time()\n",
    "model.train()\n",
    "end_time = time.time()\n",
    "training_duration = end_time - start_time\n",
    "mdata.uns['runtime'] = training_duration"
   ]
  },
  {
   "cell_type": "code",
   "execution_count": 15,
   "id": "c2882ae4-fa62-4ce4-8fb8-9a1bee0063d8",
   "metadata": {},
   "outputs": [
    {
     "data": {
      "text/plain": [
       "<matplotlib.legend.Legend at 0x14e54cee8550>"
      ]
     },
     "execution_count": 15,
     "metadata": {},
     "output_type": "execute_result"
    },
    {
     "data": {
      "image/png": "[encoded data removed]",
      "text/plain": [
       "<Figure size 640x480 with 1 Axes>"
      ]
     },
     "metadata": {},
     "output_type": "display_data"
    }
   ],
   "source": [
    "fig, ax = plt.subplots(1, 1)\n",
    "model.history[\"elbo_train\"].plot(ax=ax, label=\"train\")\n",
    "model.history[\"elbo_validation\"].plot(ax=ax, label=\"validation\")\n",
    "ax.set(title=\"Negative ELBO over training epochs\", ylim=(300, 1400))\n",
    "ax.legend()"
   ]
  },
  {
   "cell_type": "code",
   "execution_count": 26,
   "id": "acd46351-2d44-4e37-aced-bcf6287c3960",
   "metadata": {},
   "outputs": [
    {
     "name": "stderr",
     "output_type": "stream",
     "text": [
      "/home/users/allstaff/liu.ne/.conda/envs/scMultiOmics_normalization/lib/python3.9/site-packages/mudata/_core/mudata.py:491: UserWarning: Cannot join columns with the same name because var_names are intersecting.\n"
     ]
    }
   ],
   "source": [
    "# get totalVI's latent dimensions \n",
    "mdata.mod['filtered_transcriptome'].obsm['totalVI_latent_dims'] = model.get_latent_representation()\n",
    "rna_normalized, protein_normalized = model.get_normalized_expression()\n",
    "mdata.mod['adt'].layers['adt_normalized'] = protein_normalized\n",
    "mdata.mod['filtered_transcriptome'].layers['rna_normalized'] = rna_normalized\n",
    "mdata.mod['filtered_transcriptome'].uns['totalVI_runtime'] = training_duration\n",
    "mdata.update()"
   ]
  },
  {
   "cell_type": "code",
   "execution_count": 27,
   "id": "5401bd8f-aa3c-4433-b4b4-40b9c32a2a47",
   "metadata": {},
   "outputs": [
    {
     "data": {
      "text/html": [
       "<pre>MuData object with n_obs × n_vars = 30672 × 21034\n",
       "  obs:\t&#x27;_scvi_labels&#x27;, &#x27;runtime&#x27;\n",
       "  uns:\t&#x27;_scvi_uuid&#x27;, &#x27;_scvi_manager_uuid&#x27;, &#x27;runtime&#x27;\n",
       "  3 modalities\n",
       "    rna:\t30672 x 17009\n",
       "      obs:\t&#x27;orig.ident&#x27;, &#x27;nCount_RNA&#x27;, &#x27;nFeature_RNA&#x27;, &#x27;nCount_ADT&#x27;, &#x27;nFeature_ADT&#x27;, &#x27;lane&#x27;, &#x27;donor&#x27;, &#x27;celltype.l1&#x27;, &#x27;celltype.l2&#x27;, &#x27;RNA.weight&#x27;, &#x27;log2_rna_libsize&#x27;, &#x27;log2_adt_libsize&#x27;, &#x27;_scvi_batch&#x27;\n",
       "      var:\t&#x27;highly_variable&#x27;, &#x27;highly_variable_rank&#x27;, &#x27;means&#x27;, &#x27;variances&#x27;, &#x27;variances_norm&#x27;, &#x27;highly_variable_nbatches&#x27;\n",
       "      uns:\t&#x27;X_name&#x27;, &#x27;hvg&#x27;\n",
       "      layers:\t&#x27;counts&#x27;\n",
       "    adt:\t30672 x 25\n",
       "      obs:\t&#x27;orig.ident&#x27;, &#x27;nCount_RNA&#x27;, &#x27;nFeature_RNA&#x27;, &#x27;nCount_ADT&#x27;, &#x27;nFeature_ADT&#x27;, &#x27;lane&#x27;, &#x27;donor&#x27;, &#x27;celltype.l1&#x27;, &#x27;celltype.l2&#x27;, &#x27;RNA.weight&#x27;, &#x27;log2_rna_libsize&#x27;, &#x27;log2_adt_libsize&#x27;, &#x27;_scvi_batch&#x27;\n",
       "      uns:\t&#x27;X_name&#x27;\n",
       "      layers:\t&#x27;adt_normalized&#x27;\n",
       "    filtered_transcriptome:\t30672 x 4000\n",
       "      obs:\t&#x27;orig.ident&#x27;, &#x27;nCount_RNA&#x27;, &#x27;nFeature_RNA&#x27;, &#x27;nCount_ADT&#x27;, &#x27;nFeature_ADT&#x27;, &#x27;lane&#x27;, &#x27;donor&#x27;, &#x27;celltype.l1&#x27;, &#x27;celltype.l2&#x27;, &#x27;RNA.weight&#x27;, &#x27;log2_rna_libsize&#x27;, &#x27;log2_adt_libsize&#x27;\n",
       "      var:\t&#x27;highly_variable&#x27;, &#x27;highly_variable_rank&#x27;, &#x27;means&#x27;, &#x27;variances&#x27;, &#x27;variances_norm&#x27;, &#x27;highly_variable_nbatches&#x27;\n",
       "      uns:\t&#x27;X_name&#x27;, &#x27;hvg&#x27;, &#x27;totalVI_runtime&#x27;\n",
       "      obsm:\t&#x27;totalVI_latent_dims&#x27;\n",
       "      layers:\t&#x27;counts&#x27;, &#x27;rna_normalized&#x27;</pre>"
      ],
      "text/plain": [
       "MuData object with n_obs × n_vars = 30672 × 21034\n",
       "  obs:\t'_scvi_labels', 'runtime'\n",
       "  uns:\t'_scvi_uuid', '_scvi_manager_uuid', 'runtime'\n",
       "  3 modalities\n",
       "    rna:\t30672 x 17009\n",
       "      obs:\t'orig.ident', 'nCount_RNA', 'nFeature_RNA', 'nCount_ADT', 'nFeature_ADT', 'lane', 'donor', 'celltype.l1', 'celltype.l2', 'RNA.weight', 'log2_rna_libsize', 'log2_adt_libsize', '_scvi_batch'\n",
       "      var:\t'highly_variable', 'highly_variable_rank', 'means', 'variances', 'variances_norm', 'highly_variable_nbatches'\n",
       "      uns:\t'X_name', 'hvg'\n",
       "      layers:\t'counts'\n",
       "    adt:\t30672 x 25\n",
       "      obs:\t'orig.ident', 'nCount_RNA', 'nFeature_RNA', 'nCount_ADT', 'nFeature_ADT', 'lane', 'donor', 'celltype.l1', 'celltype.l2', 'RNA.weight', 'log2_rna_libsize', 'log2_adt_libsize', '_scvi_batch'\n",
       "      uns:\t'X_name'\n",
       "      layers:\t'adt_normalized'\n",
       "    filtered_transcriptome:\t30672 x 4000\n",
       "      obs:\t'orig.ident', 'nCount_RNA', 'nFeature_RNA', 'nCount_ADT', 'nFeature_ADT', 'lane', 'donor', 'celltype.l1', 'celltype.l2', 'RNA.weight', 'log2_rna_libsize', 'log2_adt_libsize'\n",
       "      var:\t'highly_variable', 'highly_variable_rank', 'means', 'variances', 'variances_norm', 'highly_variable_nbatches'\n",
       "      uns:\t'X_name', 'hvg', 'totalVI_runtime'\n",
       "      obsm:\t'totalVI_latent_dims'\n",
       "      layers:\t'counts', 'rna_normalized'"
      ]
     },
     "execution_count": 27,
     "metadata": {},
     "output_type": "execute_result"
    }
   ],
   "source": [
    "# Check if anything looks off\n",
    "mdata"
   ]
  },
  {
   "cell_type": "code",
   "execution_count": 28,
   "id": "da8bf308-d2dc-45fa-b477-0079ac37fb3d",
   "metadata": {},
   "outputs": [],
   "source": [
    "# Save the muon object as h5 so we can load it into R\n",
    "#mdata.write_h5mu('/vast/scratch/users/liu.ne/totalVI_mudata')\n",
    "mdata.mod['adt'].write_h5ad('/vast/scratch/users/liu.ne/totalVI_adt.h5ad')\n",
    "mdata.mod['filtered_transcriptome'].write_h5ad('/vast/scratch/users/liu.ne/totalVI_rna.h5ad')"
   ]
  },
  {
   "cell_type": "markdown",
   "id": "39504972-6c13-401c-99c3-e369a5bda5ed",
   "metadata": {},
   "source": [
    "## Multi study normalization"
   ]
  },
  {
   "cell_type": "code",
   "execution_count": 6,
   "id": "e58178ac-96dd-44cf-9d18-774dad845d3e",
   "metadata": {},
   "outputs": [],
   "source": [
    "# Load the data\n",
    "merged_ADT = sc.read_h5ad(filename = '/vast/scratch/users/liu.ne/merged_ADT.h5ad')\n",
    "merged_RNA = sc.read_h5ad(filename = '/vast/scratch/users/liu.ne/merged_RNA.h5ad')"
   ]
  },
  {
   "cell_type": "code",
   "execution_count": 7,
   "id": "4671be19-8077-417b-8717-3622b3ed23da",
   "metadata": {},
   "outputs": [
    {
     "name": "stderr",
     "output_type": "stream",
     "text": [
      "/home/users/allstaff/liu.ne/.conda/envs/scMultiOmics_normalization/lib/python3.9/site-packages/mudata/_core/mudata.py:491: UserWarning: Cannot join columns with the same name because var_names are intersecting.\n"
     ]
    }
   ],
   "source": [
    "merged_data = muon.MuData({'RNA': merged_RNA, 'ADT': merged_ADT})"
   ]
  },
  {
   "cell_type": "code",
   "execution_count": 24,
   "id": "b0c26c12-fa68-4466-b598-ea9de3cd1d93",
   "metadata": {},
   "outputs": [
    {
     "data": {
      "text/plain": [
       "Index(['CD14', 'CD19', 'CD27', 'CD28', 'CD38', 'CD4', 'CD69'], dtype='object')"
      ]
     },
     "execution_count": 24,
     "metadata": {},
     "output_type": "execute_result"
    }
   ],
   "source": [
    "# Somehow some CD receptors are also in RNA????\n",
    "(merged_ADT.var_names).intersection(merged_RNA.var_names)"
   ]
  }
 ],
 "metadata": {
  "kernelspec": {
   "display_name": "Python (scMultiOmics_normalization)",
   "language": "python",
   "name": "scmultiomics_normalization"
  },
  "language_info": {
   "codemirror_mode": {
    "name": "ipython",
    "version": 3
   },
   "file_extension": ".py",
   "mimetype": "text/x-python",
   "name": "python",
   "nbconvert_exporter": "python",
   "pygments_lexer": "ipython3",
   "version": "3.9.18"
  }
 },
 "nbformat": 4,
 "nbformat_minor": 5
}
